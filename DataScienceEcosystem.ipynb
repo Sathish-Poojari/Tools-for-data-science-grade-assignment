{
  "cells": [
    {
      "cell_type": "markdown",
      "metadata": {
        "id": "wclApmxzPBDX"
      },
      "source": [
        "# Data Science Tools and Ecosystem"
      ]
    },
    {
      "cell_type": "markdown",
      "metadata": {
        "id": "poaIreNaPBDZ"
      },
      "source": [
        "In this notebook, Data Science Tools and Ecosystem are summarized."
      ]
    },
    {
      "cell_type": "markdown",
      "metadata": {
        "id": "fliReY0YPBDa"
      },
      "source": [
        "Some of the popular languages that Data Scientists use are:\n",
        "1) Python\n",
        "2) R\n",
        "3) SQL\n",
        "4) Julia"
      ]
    },
    {
      "cell_type": "markdown",
      "metadata": {
        "id": "smrZjvMePBDa"
      },
      "source": [
        "Some of the commonly used libraries used by Data Scientists include:\n",
        "1) Pandas\n",
        "2) NumPy\n",
        "3) Scikit-learn\n",
        "4) Matplotlib\n",
        "5) TensorFlow"
      ]
    },
    {
      "cell_type": "markdown",
      "metadata": {
        "id": "Bg6mkiUfPBDa"
      },
      "source": [
        "| Data Science Tools |\n",
        "|--------------------|\n",
        "| Jupyter Notebook   |\n",
        "| RStudio            |\n",
        "| VS Code            |"
      ]
    },
    {
      "cell_type": "markdown",
      "metadata": {
        "id": "yO7-AoIWPBDa"
      },
      "source": [
        "### Below are a few examples of evaluating arithmetic expressions in Python."
      ]
    },
    {
      "cell_type": "code",
      "execution_count": 1,
      "metadata": {
        "colab": {
          "base_uri": "https://localhost:8080/"
        },
        "id": "1IN-Zjs7PBDa",
        "outputId": "e0aa67e1-fa58-4f3e-80d0-7067a007d686"
      },
      "outputs": [
        {
          "output_type": "execute_result",
          "data": {
            "text/plain": [
              "17"
            ]
          },
          "metadata": {},
          "execution_count": 1
        }
      ],
      "source": [
        "# This a simple arithmetic expression to mutiply then add integers.\n",
        "(3*4)+5"
      ]
    },
    {
      "cell_type": "code",
      "execution_count": null,
      "metadata": {
        "id": "Af8PjXH5PBDb",
        "outputId": "936300dd-84ec-48c4-fb54-9e035d0994ab"
      },
      "outputs": [
        {
          "name": "stdout",
          "output_type": "stream",
          "text": [
            "3.3333333333333335\n"
          ]
        }
      ],
      "source": [
        "# This will convert 200 minutes to hours by diving by 60.\n",
        "minutes = 200\n",
        "hours = minutes / 60\n",
        "print(hours)"
      ]
    },
    {
      "cell_type": "markdown",
      "metadata": {
        "id": "NZ_rgeQyPBDb"
      },
      "source": [
        "**Objectives:**\n",
        " * List popular languages for Data Science\n",
        " * List commonly used libraries\n",
        " * Create a table of data science tools\n",
        " * Demonstrate arithmetic operations"
      ]
    },
    {
      "cell_type": "markdown",
      "metadata": {
        "id": "Zg-RCJOOPBDb"
      },
      "source": [
        "## Author\n",
        "Sathish Poojari"
      ]
    },
    {
      "cell_type": "code",
      "execution_count": null,
      "metadata": {
        "id": "MS_2oK8fPBDc"
      },
      "outputs": [],
      "source": []
    }
  ],
  "metadata": {
    "kernelspec": {
      "display_name": "Python 3 (ipykernel)",
      "language": "python",
      "name": "python3"
    },
    "language_info": {
      "codemirror_mode": {
        "name": "ipython",
        "version": 3
      },
      "file_extension": ".py",
      "mimetype": "text/x-python",
      "name": "python",
      "nbconvert_exporter": "python",
      "pygments_lexer": "ipython3",
      "version": "3.12.8"
    },
    "colab": {
      "provenance": []
    }
  },
  "nbformat": 4,
  "nbformat_minor": 0
}